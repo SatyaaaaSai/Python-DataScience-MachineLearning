{
 "cells": [
  {
   "cell_type": "markdown",
   "id": "af91491b-576c-464d-a90f-7ce48ace54ee",
   "metadata": {},
   "source": [
    "Q1. How do you comment code in Python? What are the different types of comments?"
   ]
  },
  {
   "cell_type": "markdown",
   "id": "774177db-124a-4e4b-a2e6-4f9bce679d7b",
   "metadata": {},
   "source": [
    "Comments:It is used to interact with code,that are written in my code.\n",
    "in other words we can say , we explain what we write in the code.\n",
    "Python interpetr ignores this.\n",
    "Two types of comments are .\n",
    "i)Single line comments.\n",
    "ii)Multi-Line comments.\n"
   ]
  },
  {
   "cell_type": "code",
   "execution_count": 2,
   "id": "97ca20eb-4ccc-463e-84e3-41c3b538b7b2",
   "metadata": {},
   "outputs": [
    {
     "name": "stdout",
     "output_type": "stream",
     "text": [
      "hello world\n"
     ]
    }
   ],
   "source": [
    "#Single line Comments.\n",
    "#it is declared by the hash special varibale.\n",
    "print(\"hello world\")\n",
    "#this is used to print the hello world."
   ]
  },
  {
   "cell_type": "code",
   "execution_count": 12,
   "id": "d6f9c25e-b9eb-4fc4-94fd-3e68787fd844",
   "metadata": {},
   "outputs": [
    {
     "name": "stdout",
     "output_type": "stream",
     "text": [
      "hello\n",
      "11\n",
      "add function complete\n"
     ]
    }
   ],
   "source": [
    "\"\"\" multi line comments\n",
    "    when you want to comment the more than one or more than lines it is useful\"\"\"\n",
    "def add(a,b):\n",
    "    print(\"hello\")\n",
    "    print(a+b)\n",
    "add(5,6)\n",
    "\n",
    "\n",
    "\"\"\"this add function implememts the \n",
    "    hello and\n",
    "    add the a+b values\"\"\"\n",
    "\n",
    "print(\"add function complete\")"
   ]
  },
  {
   "cell_type": "markdown",
   "id": "92a93783-70b9-4f80-ba1f-caab636569c7",
   "metadata": {},
   "source": [
    "Q3. How do you convert one data type to another in Python?"
   ]
  },
  {
   "cell_type": "markdown",
   "id": "83c9c2bd-ceb9-4ae5-a322-dd26ee90529d",
   "metadata": {},
   "source": [
    "There are of Two Types Of conversions in python.\n",
    "i)implicit conversion.\n",
    "ii)explict conversion.\n",
    "\n",
    "let us take the examples of the both conversions."
   ]
  },
  {
   "cell_type": "code",
   "execution_count": 5,
   "id": "523ce004-18fa-4aa7-af83-cd8e6f49b8e2",
   "metadata": {},
   "outputs": [
    {
     "name": "stdout",
     "output_type": "stream",
     "text": [
      "10 <class 'int'>\n",
      "2.0 <class 'float'>\n",
      "division is 5.0 <class 'float'>\n",
      "explicit conversion conversion\n",
      "<class 'str'>\n",
      "<class 'int'>\n",
      "<class 'str'>\n",
      "pw skills10\n"
     ]
    }
   ],
   "source": [
    "#implict conversion example.\n",
    "a=10\n",
    "b=2.0\n",
    "c=a/b\n",
    "print(a,type(a))\n",
    "print(b,type(b))\n",
    "print('division is',c,type(c))\n",
    "\n",
    "#explicit conversion \n",
    "print(\"explicit conversion conversion\")\n",
    "a=\"pw skills\"\n",
    "print(type(a))\n",
    "b=10\n",
    "print(type(b))\n",
    "c=a+str(b)\n",
    "print(type(c))\n",
    "print(c)"
   ]
  },
  {
   "cell_type": "markdown",
   "id": "48a90a8b-f6f2-4c47-beb2-0b95f68530f5",
   "metadata": {},
   "source": [
    "Q5. Given a list my_list = [1, 2, 3, 4, 5], write the code to slice the list and obtain the sub-list [2, 3]."
   ]
  },
  {
   "cell_type": "code",
   "execution_count": 7,
   "id": "e25c6324-bdf5-4b4b-8976-8a98b34e85ca",
   "metadata": {},
   "outputs": [
    {
     "name": "stdout",
     "output_type": "stream",
     "text": [
      "sub list of python elememts is [2, 3]\n",
      "reverse notation is sub list  [2, 3]\n"
     ]
    }
   ],
   "source": [
    "my_list = [1, 2, 3, 4, 5]\n",
    "print(\"sub list of python elememts is\",my_list[1:3])\n",
    "print(\"reverse notation is sub list \" , my_list[-4:-2])"
   ]
  },
  {
   "cell_type": "markdown",
   "id": "83ec5920-81df-4e9e-84fd-917a72b80fdd",
   "metadata": {},
   "source": [
    "Q6. What is a complex number in mathematics, and how is it represented in python?"
   ]
  },
  {
   "cell_type": "markdown",
   "id": "3b5850b9-b79b-4b6c-8d56-042a6dfa0470",
   "metadata": {},
   "source": [
    "def of complex number: complex number os a combination of real and imaginary number."
   ]
  },
  {
   "cell_type": "code",
   "execution_count": 11,
   "id": "3725b44e-1cfa-4b2b-8dce-f8c15d4aa9f9",
   "metadata": {},
   "outputs": [
    {
     "name": "stdout",
     "output_type": "stream",
     "text": [
      "my complex number is (1+2j)\n",
      "real number of the complex number is  1.0\n",
      "real number of the complex number is  2.0\n"
     ]
    }
   ],
   "source": [
    "my_complex=1+2j\n",
    "print(\"my complex number is\",my_complex)\n",
    "print(\"real number of the complex number is \",my_complex.real)\n",
    "print(\"real number of the complex number is \",my_complex.imag)"
   ]
  },
  {
   "cell_type": "markdown",
   "id": "5b4b0d91-2638-4af3-a40b-cbe4e930a824",
   "metadata": {},
   "source": [
    "What is the correct way to declare a variable named age and assign the value 25 to it?"
   ]
  },
  {
   "cell_type": "code",
   "execution_count": 20,
   "id": "747eb971-c10b-4a71-a205-2c08ec8d4982",
   "metadata": {},
   "outputs": [
    {
     "name": "stdout",
     "output_type": "stream",
     "text": [
      "25\n",
      "25\n",
      "25\n"
     ]
    }
   ],
   "source": [
    "#we can declare in multiple ways.\n",
    "age=25\n",
    "print(age)\n",
    "_age=25\n",
    "print(_age)\n",
    "#9age=25 \n",
    "#we cannot declare here.\n",
    "#print(9age)\n",
    "age_9=25\n",
    "print(age_9)"
   ]
  },
  {
   "cell_type": "markdown",
   "id": "f1058d92-e9cc-4be0-974e-bab55735632b",
   "metadata": {},
   "source": [
    "Q8. Declare a variable named price and assign the value 9.99 to it. What data type does this variable\n",
    "belong to?"
   ]
  },
  {
   "cell_type": "code",
   "execution_count": 21,
   "id": "994ba1d5-3117-4f5a-b54b-ebb83a873414",
   "metadata": {},
   "outputs": [
    {
     "name": "stdout",
     "output_type": "stream",
     "text": [
      "price of a number is  9.99 and its type is <class 'float'>\n"
     ]
    }
   ],
   "source": [
    "price=9.99\n",
    "print(\"price of a number is \",price,\"and its type is\",type(price))"
   ]
  },
  {
   "cell_type": "markdown",
   "id": "2bd87f93-00b5-4658-9b04-19c627af9dbe",
   "metadata": {},
   "source": [
    "Q9. Create a variable named name and assign your full name to it as a string. How would you print the\n",
    "value of this variable?"
   ]
  },
  {
   "cell_type": "code",
   "execution_count": 22,
   "id": "c60c1f63-0712-4bd1-8b18-245e434a1eda",
   "metadata": {},
   "outputs": [
    {
     "name": "stdout",
     "output_type": "stream",
     "text": [
      "sri venkata satya sai thota\n"
     ]
    }
   ],
   "source": [
    "name=\"sri venkata satya sai thota\"\n",
    "print(name)"
   ]
  },
  {
   "cell_type": "markdown",
   "id": "120c577f-7683-4cf5-a3ff-3fc9c74e3f93",
   "metadata": {},
   "source": [
    "Given the string \"Hello, World!\", extract the substring \"World\"."
   ]
  },
  {
   "cell_type": "code",
   "execution_count": 28,
   "id": "ac44c40f-9ca6-41a5-8dd4-8f12ddb0ad70",
   "metadata": {},
   "outputs": [
    {
     "name": "stdout",
     "output_type": "stream",
     "text": [
      "World\n",
      "in reverse order we can say   World\n"
     ]
    }
   ],
   "source": [
    "my_string=\"Hello World\"\n",
    "print(my_string[6:11])\n",
    "print(\"in reverse order \", my_string[-6:])"
   ]
  },
  {
   "cell_type": "markdown",
   "id": "fd139381-7a88-4a62-bd6d-224a91faaa6a",
   "metadata": {},
   "source": [
    "Q11. Create a variable named \"is_student\" and assign it a boolean value indicating whether you are\n",
    "currently a student or not."
   ]
  },
  {
   "cell_type": "code",
   "execution_count": 34,
   "id": "5ada4c9e-7b04-4658-84f5-c61409d598d5",
   "metadata": {},
   "outputs": [
    {
     "name": "stdin",
     "output_type": "stream",
     "text": [
      "Enter You Are Student or not y\n",
      " True\n"
     ]
    },
    {
     "name": "stdout",
     "output_type": "stream",
     "text": [
      "You are not student\n"
     ]
    }
   ],
   "source": [
    "is_student=bool(input(\"Enter You Are Student or not y\\n\"))\n",
    "if is_student==(True or 1):\n",
    "    print(\"you are student\")\n",
    "else:\n",
    "    print(\"You are not student\")"
   ]
  }
 ],
 "metadata": {
  "kernelspec": {
   "display_name": "Python 3 (ipykernel)",
   "language": "python",
   "name": "python3"
  },
  "language_info": {
   "codemirror_mode": {
    "name": "ipython",
    "version": 3
   },
   "file_extension": ".py",
   "mimetype": "text/x-python",
   "name": "python",
   "nbconvert_exporter": "python",
   "pygments_lexer": "ipython3",
   "version": "3.10.8"
  }
 },
 "nbformat": 4,
 "nbformat_minor": 5
}
