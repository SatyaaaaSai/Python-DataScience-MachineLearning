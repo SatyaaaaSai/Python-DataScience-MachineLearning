{
 "cells": [
  {
   "cell_type": "markdown",
   "id": "3e97376b-0d5f-4c33-9b86-3c24f93d4c94",
   "metadata": {},
   "source": [
    "Q1. Create one variable containing following type of data:\n",
    "(i) string\n",
    "(ii) list\n",
    "(iii) float\n",
    "(iv) tuple"
   ]
  },
  {
   "cell_type": "code",
   "execution_count": 2,
   "id": "bff2434f-5cf0-4b70-a2a2-f693868c3ad9",
   "metadata": {},
   "outputs": [
    {
     "name": "stdout",
     "output_type": "stream",
     "text": [
      "Hello I am Learning Data Science From PWSKILLS\n",
      "[100, 200, ['mini list'], 'Hello World', 10.5, 15]\n",
      "10.5\n",
      "('pw skills', 'data science', 'hello world', 'Satya Sai', 100)\n"
     ]
    }
   ],
   "source": [
    "string_variable=\"Hello I am Learning Data Science From PWSKILLS\"\n",
    "list_variable=[100,200,[\"mini list\"],\"Hello World\",10.5,10+5]\n",
    "float_variable=10.5\n",
    "tuple_variable=(\"pw skills\",\"data science\",\"hello world\",\"Satya Sai\",100)\n",
    "print(string_variable)\n",
    "print(list_variable)\n",
    "print(float_variable)\n",
    "print(tuple_variable)"
   ]
  },
  {
   "cell_type": "markdown",
   "id": "6d3bb3a2-469c-4e45-a44c-08a0a843d2ed",
   "metadata": {},
   "source": [
    "Q2. Given are some following variables containing data:\n",
    "(i) var1 = ‘ ‘\n",
    "(ii) var2 = ‘[ DS , ML , Python]’\n",
    "(iii) var3 = [ ‘DS’ , ’ML’ , ‘Python’ ]\n",
    "(iv) var4 = 1.\n",
    "What will be the data type of the above given variable."
   ]
  },
  {
   "cell_type": "code",
   "execution_count": 12,
   "id": "1459269f-3180-4ece-a69d-9b7ac951aee8",
   "metadata": {},
   "outputs": [
    {
     "name": "stdout",
     "output_type": "stream",
     "text": [
      "<class 'str'>\n",
      "<class 'list'>\n",
      "<class 'list'>\n",
      "<class 'int'>\n"
     ]
    }
   ],
   "source": [
    "var1 = \" \"\n",
    "var2 = [ \"DS\" , \"ML\" , \"Python\"]\n",
    "var3 = [ 'DS' , 'ML' , 'Python']\n",
    "var4 = 1\n",
    "print(type(var1))\n",
    "print(type(var2))\n",
    "print(type(var3))\n",
    "print(type(var4))"
   ]
  },
  {
   "cell_type": "markdown",
   "id": "708655ff-37d8-4c7d-b2e3-b6963552a3eb",
   "metadata": {},
   "source": [
    "Q3. Explain the use of the following operators using an example:\n",
    "(i) /\n",
    "(ii) %\n",
    "(iii) //\n",
    "(iv) **\n"
   ]
  },
  {
   "cell_type": "markdown",
   "id": "e6662604-2eec-4fbc-91a4-2f12c2490a00",
   "metadata": {},
   "source": [
    "i)Usage of / operator:: It returns a value where the denominator divides the numerator (quotient) in a float value."
   ]
  },
  {
   "cell_type": "code",
   "execution_count": 14,
   "id": "8bdf46db-b7ba-4b27-bd66-09b97e5dd4d4",
   "metadata": {},
   "outputs": [
    {
     "name": "stdout",
     "output_type": "stream",
     "text": [
      "2.0\n",
      "0.5\n"
     ]
    }
   ],
   "source": [
    "a=10\n",
    "b=20\n",
    "c=b/a\n",
    "d=a/b\n",
    "print(c)\n",
    "print(d)"
   ]
  },
  {
   "cell_type": "markdown",
   "id": "657c4b93-401f-4ac7-a87c-f28fc556990d",
   "metadata": {},
   "source": [
    "ii)Usage of % operator::It returns a remainder value."
   ]
  },
  {
   "cell_type": "code",
   "execution_count": 15,
   "id": "0411e624-efd3-400e-8745-c2b614deaa8f",
   "metadata": {},
   "outputs": [
    {
     "name": "stdout",
     "output_type": "stream",
     "text": [
      "0\n",
      "10\n"
     ]
    }
   ],
   "source": [
    "a=10\n",
    "b=20\n",
    "c=b%a\n",
    "d=a%b\n",
    "print(c)\n",
    "print(d)"
   ]
  },
  {
   "cell_type": "markdown",
   "id": "0dc56dc8-f582-4e91-86db-b12a446d7553",
   "metadata": {},
   "source": [
    "iii)Usage of // Value: It Returns A Quotient Value,But Only In A Integer Format"
   ]
  },
  {
   "cell_type": "code",
   "execution_count": 2,
   "id": "44787294-f62d-4a6e-8d31-9609b43693b1",
   "metadata": {},
   "outputs": [
    {
     "name": "stdout",
     "output_type": "stream",
     "text": [
      "2\n",
      "0\n"
     ]
    }
   ],
   "source": [
    "a=10\n",
    "b=20\n",
    "c=b//a\n",
    "d=a//b\n",
    "print(c)\n",
    "print(d)"
   ]
  },
  {
   "cell_type": "markdown",
   "id": "b042ed01-ff85-4d70-aa72-b950c5c46d71",
   "metadata": {},
   "source": [
    "iv) Usage ** Value: It Acts As Exponent."
   ]
  },
  {
   "cell_type": "code",
   "execution_count": 3,
   "id": "fc470e5e-2f4f-40f9-908d-803a8453e920",
   "metadata": {},
   "outputs": [
    {
     "name": "stdin",
     "output_type": "stream",
     "text": [
      "Enter Your First value 2\n",
      "Enter Your First value 3\n"
     ]
    },
    {
     "name": "stdout",
     "output_type": "stream",
     "text": [
      "8\n"
     ]
    }
   ],
   "source": [
    "a=int(input(\"Enter Your First value\"))\n",
    "b=int(input(\"Enter Your First value\"))\n",
    "print(a**b)"
   ]
  },
  {
   "cell_type": "markdown",
   "id": "6065f56f-a1f5-4830-892d-cc0ee3857a4a",
   "metadata": {},
   "source": [
    "Q4. Create a list of length 10 of your choice containing multiple types of data. Using for loop print the\n",
    "element and its data type."
   ]
  },
  {
   "cell_type": "code",
   "execution_count": 8,
   "id": "b3c0e2a4-1aa0-4c2f-9024-f4b6b7ecef09",
   "metadata": {},
   "outputs": [
    {
     "name": "stdout",
     "output_type": "stream",
     "text": [
      "12\n",
      "<class 'int'>\n",
      "12.4\n",
      "<class 'float'>\n",
      "s\n",
      "<class 'str'>\n",
      "Satya Sai Thota\n",
      "<class 'str'>\n",
      "True\n",
      "<class 'bool'>\n",
      "False\n",
      "<class 'bool'>\n",
      "1\n",
      "<class 'int'>\n",
      "0\n",
      "<class 'int'>\n",
      "(8+3j)\n",
      "<class 'complex'>\n",
      "[10, 20.4, 'pwskills']\n",
      "<class 'list'>\n",
      "Ended up All The Data Types\n"
     ]
    }
   ],
   "source": [
    "list_data=[12,12.4,\"s\",\"Satya Sai Thota\",True,False,1,0,8+3j,[10,20.4,\"pwskills\"]]\n",
    "for i in list_data :\n",
    "    print(i)\n",
    "    print(type(i))\n",
    "else:\n",
    "    print(\"Ended up All The Data Types\")"
   ]
  },
  {
   "cell_type": "markdown",
   "id": "27c77cbd-5a55-4558-9d88-4ebb2b8c2883",
   "metadata": {},
   "source": [
    "Q5. Using a while loop, verify if the number A is purely divisible by number B and if so then how many\n",
    "times it can be divisible."
   ]
  },
  {
   "cell_type": "code",
   "execution_count": 18,
   "id": "8f2ad42a-858d-4f68-b4c3-c0f40d3eadaa",
   "metadata": {},
   "outputs": [
    {
     "name": "stdin",
     "output_type": "stream",
     "text": [
      "Enter Your First value 25\n",
      "Enter Your First value 5\n"
     ]
    },
    {
     "name": "stdout",
     "output_type": "stream",
     "text": [
      "2\n"
     ]
    }
   ],
   "source": [
    "a=int(input(\"Enter Your First value\"))\n",
    "b=int(input(\"Enter Your First value\"))\n",
    "no_of_division=0\n",
    "while a%b==0:\n",
    "    a=a//b\n",
    "    no_of_division+=1\n",
    "print(no_of_division)"
   ]
  },
  {
   "cell_type": "markdown",
   "id": "051630fa-dcad-4380-bbda-ac34e3044ddd",
   "metadata": {},
   "source": [
    "Q6. Create a list containing 25 int type data. Using for loop and if-else condition print if the element is\n",
    "divisible by 3 or not.\n"
   ]
  },
  {
   "cell_type": "code",
   "execution_count": null,
   "id": "2bbbb194-aca1-4f11-bcd9-17d5faa27a0f",
   "metadata": {},
   "outputs": [],
   "source": [
    "l=[]\n",
    "for i in range(0,25):\n",
    "    a=int(input(\"Enter Your value\"))\n",
    "    l.append(a)\n",
    "print(l)\n",
    "\n",
    "for i in l:\n",
    "    if i%3==0:\n",
    "        print(\"It Is Divisible By Three\")\n",
    "    else:\n",
    "        print(\"Not Divisible By Three\")"
   ]
  },
  {
   "cell_type": "markdown",
   "id": "03365e6d-fd6f-4cbc-865f-43763e7675bb",
   "metadata": {},
   "source": [
    "Q7. What do you understand about mutable and immutable data types? Give examples for both showing\n",
    "this property."
   ]
  },
  {
   "cell_type": "markdown",
   "id": "a429572a-60da-4c8f-b3ed-00991c62c71d",
   "metadata": {},
   "source": [
    "i)Mutable:Once,memory created in memory.It does not replace.Like Strings"
   ]
  },
  {
   "cell_type": "code",
   "execution_count": 21,
   "id": "a02c1930-22f9-41ed-a2e4-cc16b9f30d0b",
   "metadata": {},
   "outputs": [
    {
     "name": "stdout",
     "output_type": "stream",
     "text": [
      "Satya Sai Thota\n"
     ]
    },
    {
     "ename": "TypeError",
     "evalue": "'str' object does not support item assignment",
     "output_type": "error",
     "traceback": [
      "\u001b[0;31m---------------------------------------------------------------------------\u001b[0m",
      "\u001b[0;31mTypeError\u001b[0m                                 Traceback (most recent call last)",
      "Cell \u001b[0;32mIn[21], line 3\u001b[0m\n\u001b[1;32m      1\u001b[0m s\u001b[38;5;241m=\u001b[39m\u001b[38;5;124m\"\u001b[39m\u001b[38;5;124mSatya Sai Thota\u001b[39m\u001b[38;5;124m\"\u001b[39m\n\u001b[1;32m      2\u001b[0m \u001b[38;5;28mprint\u001b[39m(s)\n\u001b[0;32m----> 3\u001b[0m \u001b[43ms\u001b[49m\u001b[43m[\u001b[49m\u001b[38;5;241;43m5\u001b[39;49m\u001b[43m]\u001b[49m\u001b[38;5;241m=\u001b[39m\u001b[38;5;124m\"\u001b[39m\u001b[38;5;124mZ\u001b[39m\u001b[38;5;124m\"\u001b[39m\n\u001b[1;32m      4\u001b[0m \u001b[38;5;28mprint\u001b[39m(s)\n",
      "\u001b[0;31mTypeError\u001b[0m: 'str' object does not support item assignment"
     ]
    }
   ],
   "source": [
    "s=\"Satya Sai Thota\"\n",
    "print(s)\n",
    "s[5]=\"Z\"\n",
    "print(s)"
   ]
  },
  {
   "cell_type": "markdown",
   "id": "7e6e49ab-8fed-41e6-9b10-bcce70304a8f",
   "metadata": {},
   "source": [
    "ii)immuatable:we can change the values,one it is assigned."
   ]
  },
  {
   "cell_type": "code",
   "execution_count": 22,
   "id": "91a9021b-6aac-4d8c-8178-ff040e0221d7",
   "metadata": {},
   "outputs": [
    {
     "name": "stdout",
     "output_type": "stream",
     "text": [
      "[1, 'sr', 10.6, 'PWSKILLS', True]\n",
      "[1, 'Satya Sai Thota', 10.6, 'PWSKILLS', False]\n"
     ]
    }
   ],
   "source": [
    "l=[1,'sr',10.6,\"PWSKILLS\",True]\n",
    "print(l)\n",
    "l[1]=\"Satya Sai Thota\"\n",
    "l[-1]=False\n",
    "print(l)"
   ]
  }
 ],
 "metadata": {
  "kernelspec": {
   "display_name": "Python 3 (ipykernel)",
   "language": "python",
   "name": "python3"
  },
  "language_info": {
   "codemirror_mode": {
    "name": "ipython",
    "version": 3
   },
   "file_extension": ".py",
   "mimetype": "text/x-python",
   "name": "python",
   "nbconvert_exporter": "python",
   "pygments_lexer": "ipython3",
   "version": "3.10.8"
  }
 },
 "nbformat": 4,
 "nbformat_minor": 5
}
