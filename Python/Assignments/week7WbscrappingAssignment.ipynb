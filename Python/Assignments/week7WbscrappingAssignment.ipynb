{
 "cells": [
  {
   "cell_type": "markdown",
   "id": "e9111493-2fd1-46c8-bc65-75822d299786",
   "metadata": {},
   "source": [
    "Q1. What is Web Scraping? Why is it Used? Give three areas where Web Scraping is used to get data."
   ]
  },
  {
   "cell_type": "raw",
   "id": "80246e16-7cd7-4a3a-94fd-99e8d33557f6",
   "metadata": {},
   "source": [
    "WebScraping : Webscraping is a type of technique , which we scrap the entire data in the webpage.\n",
    "It is used For the Understanding data easily.What is the contents in the webscraping is described.\n",
    "1)E-Commerce Websites\n",
    "2)Social Media Apps such as twiiter, instagram and youtube\n",
    "3)Reviews Website\n"
   ]
  },
  {
   "cell_type": "markdown",
   "id": "199d0244-2be0-4d5c-a2d1-7e423e1b8dde",
   "metadata": {},
   "source": [
    "Q2. What are the different methods used for Web Scraping?"
   ]
  },
  {
   "cell_type": "markdown",
   "id": "de379e7b-cccc-4e04-aa27-a1e6aa3fe77e",
   "metadata": {},
   "source": [
    "HTML-Parsing: After Getting all the source File and then using beautiful soup we can change that source code to some beautiful human readable manner.\n",
    "urllib:Getting the urlopen form.\n",
    "requests: Generally getting the form value."
   ]
  },
  {
   "cell_type": "markdown",
   "id": "7a247696-f2c6-4791-b5ab-1d7999d40c89",
   "metadata": {},
   "source": [
    "Q3. What is Beautiful Soup? Why is it used?"
   ]
  },
  {
   "cell_type": "raw",
   "id": "3c869a95-9f0d-4ccc-a902-fcd931e74b8c",
   "metadata": {},
   "source": [
    "Beautiful Soup is a class from the module bs4.Generally it uses for, beautifies the entire html-source-code into the human readable form."
   ]
  },
  {
   "cell_type": "markdown",
   "id": "a5eb04a4-b0d2-4601-b344-403c09711948",
   "metadata": {},
   "source": [
    "Q4. Why is flask used in this Web Scraping project?"
   ]
  },
  {
   "cell_type": "raw",
   "id": "6c6d1d22-3f0f-4fdf-9e11-f68276cd1bc3",
   "metadata": {},
   "source": [
    "Flask is used for backend development in the python.Using Python-Flask we can make apis(application program interfaces) "
   ]
  },
  {
   "cell_type": "markdown",
   "id": "8f7df5ac-9f1a-4730-b688-610e570cb5b3",
   "metadata": {},
   "source": [
    "Q5. Write the names of AWS services used in this project. Also, explain the use of each service."
   ]
  },
  {
   "cell_type": "markdown",
   "id": "bc898769-7f4f-40f8-a702-a0beaeb5fca7",
   "metadata": {},
   "source": [
    "Codepipeline and beanstalk : \n",
    "In,codepipeline we can clone the entire github repo into that servive.\n",
    "and then we can deploy the entire our web into the beanstalk.."
   ]
  }
 ],
 "metadata": {
  "kernelspec": {
   "display_name": "Python 3 (ipykernel)",
   "language": "python",
   "name": "python3"
  },
  "language_info": {
   "codemirror_mode": {
    "name": "ipython",
    "version": 3
   },
   "file_extension": ".py",
   "mimetype": "text/x-python",
   "name": "python",
   "nbconvert_exporter": "python",
   "pygments_lexer": "ipython3",
   "version": "3.10.8"
  }
 },
 "nbformat": 4,
 "nbformat_minor": 5
}
