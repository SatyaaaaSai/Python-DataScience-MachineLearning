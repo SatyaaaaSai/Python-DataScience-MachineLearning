{
 "cells": [
  {
   "cell_type": "markdown",
   "id": "a1dc44a1-26f8-4abc-a643-15983f9dea6c",
   "metadata": {},
   "source": [
    "Question Number 1 :"
   ]
  },
  {
   "cell_type": "raw",
   "id": "8a591b16-3792-4bba-99ae-cc46db9657d0",
   "metadata": {},
   "source": [
    "Exception in Python : It is used for to handle the run time errors. To avoid the abnormal condition we used to exception concept in Syntax Errors : synatx error is an error where we avoid the certain rules for the certain functions. if we avoid the particular errors , syntax errors are envoked.\n",
    "The Main Difference is : without correcting the synatax , we cant run an program. so in an program synatx errors are must be rectified . whereas in expection ,we try to avoid the abnormal termination to the flow of the contraol of the program."
   ]
  },
  {
   "cell_type": "markdown",
   "id": "64e123b3-efab-4d95-8be5-a5d897f306b5",
   "metadata": {},
   "source": [
    "Question Number 2 : "
   ]
  },
  {
   "cell_type": "raw",
   "id": "147266cb-a2b2-4bd2-9db9-4fba8a3077b0",
   "metadata": {},
   "source": [
    "If Exception is not handled, it automatically terminates the program.Here is the below example;..."
   ]
  },
  {
   "cell_type": "code",
   "execution_count": 4,
   "id": "d384ad1d-51de-45ef-870a-1b131dccd26c",
   "metadata": {},
   "outputs": [
    {
     "ename": "ZeroDivisionError",
     "evalue": "division by zero",
     "output_type": "error",
     "traceback": [
      "\u001b[0;31m---------------------------------------------------------------------------\u001b[0m",
      "\u001b[0;31mZeroDivisionError\u001b[0m                         Traceback (most recent call last)",
      "Cell \u001b[0;32mIn[4], line 5\u001b[0m\n\u001b[1;32m      3\u001b[0m     l\u001b[38;5;241m=\u001b[39m[\u001b[38;5;241m1\u001b[39m,\u001b[38;5;241m2\u001b[39m,\u001b[38;5;241m3\u001b[39m,\u001b[38;5;241m4\u001b[39m,\u001b[38;5;241m5\u001b[39m]\n\u001b[1;32m      4\u001b[0m     \u001b[38;5;28mprint\u001b[39m(\u001b[38;5;124m\"\u001b[39m\u001b[38;5;124m i want to accces the list of 10th number \u001b[39m\u001b[38;5;124m\"\u001b[39m , l[\u001b[38;5;241m10\u001b[39m])\n\u001b[0;32m----> 5\u001b[0m \u001b[43mtest_for_exception\u001b[49m\u001b[43m(\u001b[49m\u001b[43m)\u001b[49m\n",
      "Cell \u001b[0;32mIn[4], line 2\u001b[0m, in \u001b[0;36mtest_for_exception\u001b[0;34m()\u001b[0m\n\u001b[1;32m      1\u001b[0m \u001b[38;5;28;01mdef\u001b[39;00m \u001b[38;5;21mtest_for_exception\u001b[39m() :\n\u001b[0;32m----> 2\u001b[0m     a\u001b[38;5;241m=\u001b[39m\u001b[38;5;241;43m10\u001b[39;49m\u001b[38;5;241;43m/\u001b[39;49m\u001b[38;5;241;43m0\u001b[39;49m\n\u001b[1;32m      3\u001b[0m     l\u001b[38;5;241m=\u001b[39m[\u001b[38;5;241m1\u001b[39m,\u001b[38;5;241m2\u001b[39m,\u001b[38;5;241m3\u001b[39m,\u001b[38;5;241m4\u001b[39m,\u001b[38;5;241m5\u001b[39m]\n\u001b[1;32m      4\u001b[0m     \u001b[38;5;28mprint\u001b[39m(\u001b[38;5;124m\"\u001b[39m\u001b[38;5;124m i want to accces the list of 10th number \u001b[39m\u001b[38;5;124m\"\u001b[39m , l[\u001b[38;5;241m10\u001b[39m])\n",
      "\u001b[0;31mZeroDivisionError\u001b[0m: division by zero"
     ]
    }
   ],
   "source": [
    "def test_for_exception() :\n",
    "    l=[1,2,3,4,5]\n",
    "    print(\" i want to accces the list of 10th number \" , l[10])\n",
    "test_for_exception()"
   ]
  },
  {
   "cell_type": "markdown",
   "id": "f8563380-d4b8-4a3e-a44c-b28fc9ce6fb4",
   "metadata": {},
   "source": [
    "Question Number 3 :"
   ]
  },
  {
   "cell_type": "raw",
   "id": "23619142-5c3d-4c8a-a7ae-db93449fdc0e",
   "metadata": {},
   "source": [
    "try and except keywords are used for the handling and catch exceptions."
   ]
  },
  {
   "cell_type": "code",
   "execution_count": 7,
   "id": "a5024b4e-27dd-492e-b15f-a2f668e76eaf",
   "metadata": {},
   "outputs": [
    {
     "name": "stdout",
     "output_type": "stream",
     "text": [
      "this will envokes an exception  list index out of range\n",
      "i am after the exception\n"
     ]
    },
    {
     "name": "stdin",
     "output_type": "stream",
     "text": [
      " 712\n",
      " 23\n"
     ]
    },
    {
     "name": "stdout",
     "output_type": "stream",
     "text": [
      "addition of two numbers is  735\n"
     ]
    }
   ],
   "source": [
    "try :\n",
    "    l=[1,2,3,4]\n",
    "    print(l[10])\n",
    "except Exception as ae : \n",
    "    print(\"this will envokes an exception \" , ae)\n",
    "print(\"i am after the exception\")\n",
    "a=int(input())\n",
    "b=int(input())\n",
    "print(\"addition of two numbers is \" ,a+b)"
   ]
  },
  {
   "cell_type": "markdown",
   "id": "b3ec807b-282e-41f0-9c34-cf93be309aa6",
   "metadata": {},
   "source": [
    "Question no 4 :"
   ]
  },
  {
   "cell_type": "raw",
   "id": "22823cf4-853a-4ab2-aad2-a5cf9d19cfaa",
   "metadata": {},
   "source": [
    "try and else : after the try will execute without any exceptions then else will automatically executes."
   ]
  },
  {
   "cell_type": "code",
   "execution_count": 18,
   "id": "3813eda7-c87c-4e23-8ffa-1675f4434cd2",
   "metadata": {},
   "outputs": [
    {
     "name": "stdout",
     "output_type": "stream",
     "text": [
      "2\n",
      "i will execute after the try block \n"
     ]
    }
   ],
   "source": [
    "#example \n",
    "try : \n",
    "    l=[1,2,2,2,2]\n",
    "    a=l[1]\n",
    "except IndexError as e :\n",
    "    print(\"it invokes an exception \" , e)\n",
    "else :\n",
    "    print(a)\n",
    "    print(\"i will execute after the try block \")"
   ]
  },
  {
   "cell_type": "markdown",
   "id": "6b3419f8-5225-422d-80d8-d6a217915b1a",
   "metadata": {},
   "source": [
    "b)finally :"
   ]
  },
  {
   "cell_type": "code",
   "execution_count": null,
   "id": "70c880d3-098b-4278-a150-0f10d2d43474",
   "metadata": {},
   "outputs": [],
   "source": [
    "it will execute no matter what . "
   ]
  },
  {
   "cell_type": "code",
   "execution_count": 23,
   "id": "907dc36b-32b4-4160-8928-e210df2755c2",
   "metadata": {},
   "outputs": [
    {
     "name": "stdout",
     "output_type": "stream",
     "text": [
      "it encounters a Syntax Error  [Errno 2] No such file or directory: 'unknownfile.txt'\n",
      "hello, i am finally block \n"
     ]
    }
   ],
   "source": [
    "try : \n",
    "    with open(\"unknownfile.txt\" , \"r\") as f :\n",
    "        f.read()\n",
    "except FileNotFoundError as e :\n",
    "        print(\"it encounters a Syntax Error \" , e)\n",
    "finally :\n",
    "        print(\"hello, i am finally block \")"
   ]
  },
  {
   "cell_type": "raw",
   "id": "05e72383-e601-4e7a-9edc-6fe23d110cd8",
   "metadata": {},
   "source": [
    "c)raise condtion"
   ]
  },
  {
   "cell_type": "markdown",
   "id": "4d4f8d0b-de41-4d8b-a612-c68d4f802f50",
   "metadata": {},
   "source": [
    "raise is used for the , to raise the exceptions which are used in the custom exception class "
   ]
  },
  {
   "cell_type": "code",
   "execution_count": 40,
   "id": "99a2ec66-df24-4b95-a68c-43777c5edab1",
   "metadata": {},
   "outputs": [
    {
     "name": "stdin",
     "output_type": "stream",
     "text": [
      "enter your age 14\n"
     ]
    },
    {
     "name": "stdout",
     "output_type": "stream",
     "text": [
      "you are not eligilble for voting\n"
     ]
    }
   ],
   "source": [
    "class vote_validating(Exception) :\n",
    "    def __init__(self,age) :\n",
    "        self.age=age\n",
    "    def vote(self) :\n",
    "        if vote<18 :\n",
    "            raise vote_validating(\"you are not eligilble for voting\")\n",
    "        else :\n",
    "            print(\"your age is valild\")\n",
    "try :\n",
    "    vote=int(input(\"enter your age\"))\n",
    "    obj=vote_validating(vote)\n",
    "    obj.vote()\n",
    "except vote_validating as e :\n",
    "    print(e)"
   ]
  },
  {
   "cell_type": "markdown",
   "id": "298e4f30-9c6b-4b7f-84f6-01c2dda1709f",
   "metadata": {},
   "source": [
    "Question Number 5 :"
   ]
  },
  {
   "cell_type": "code",
   "execution_count": null,
   "id": "9fb12021-3af9-4228-8b9b-4a7f31cf198a",
   "metadata": {},
   "outputs": [],
   "source": [
    "custom exceptions : we need to custom the exceptions , which are customised to our own conndtions."
   ]
  },
  {
   "cell_type": "code",
   "execution_count": null,
   "id": "1ec8bdb0-6682-4145-b5c9-4463bab941c0",
   "metadata": {},
   "outputs": [],
   "source": [
    "#Example.\n",
    "class semester_validating(Exception) :\n",
    "    def __init__(self,subs) :\n",
    "        self.subs=subs\n",
    "    def subject(self) :\n",
    "        if subs<=5 or subs >=6 :\n",
    "            raise semester_validating(\"you cannot choose less/more subjects\")\n",
    "        else :\n",
    "            print(\"your semester subjects are guaranteed and valild\")\n",
    "try :\n",
    "    subs=int(input(\"enter your subs\"))\n",
    "    obj1=semester_validating(subs)\n",
    "    obj1.subject()\n",
    "except semester_validating as e :\n",
    "    print(e)"
   ]
  },
  {
   "cell_type": "markdown",
   "id": "df474c8e-a626-4837-aae6-8f58544f1489",
   "metadata": {},
   "source": [
    "Question Number 6 :\n",
    "    "
   ]
  },
  {
   "cell_type": "code",
   "execution_count": 1,
   "id": "f3c2ad7b-b371-4b32-8021-06effb916b34",
   "metadata": {},
   "outputs": [],
   "source": [
    "class Marks_Verifying(Exception) :\n",
    "    def __intit__(self,msg):\n",
    "        self.msg=msg"
   ]
  },
  {
   "cell_type": "code",
   "execution_count": 2,
   "id": "a2266889-aaa1-46fd-b759-4504d9a67909",
   "metadata": {},
   "outputs": [],
   "source": [
    "def marksVerfying(marks) :\n",
    "    if marks<0 or marks>100 :\n",
    "        raise Marks_Verifying(\"marks cant be negative / 100 \")\n",
    "    else :\n",
    "        print(\"you have entered right marks\")"
   ]
  },
  {
   "cell_type": "code",
   "execution_count": 3,
   "id": "319f2c4b-26f6-41f1-8aa4-7433e5a2c73e",
   "metadata": {},
   "outputs": [
    {
     "name": "stdin",
     "output_type": "stream",
     "text": [
      "enter your subs -9\n"
     ]
    },
    {
     "name": "stdout",
     "output_type": "stream",
     "text": [
      "marks cant be negative / 100 \n"
     ]
    }
   ],
   "source": [
    "try :\n",
    "    marks=int(input(\"enter your subs\"))\n",
    "    marksVerfying(marks)\n",
    "except Marks_Verifying as e :\n",
    "    print(e)"
   ]
  }
 ],
 "metadata": {
  "kernelspec": {
   "display_name": "Python 3 (ipykernel)",
   "language": "python",
   "name": "python3"
  },
  "language_info": {
   "codemirror_mode": {
    "name": "ipython",
    "version": 3
   },
   "file_extension": ".py",
   "mimetype": "text/x-python",
   "name": "python",
   "nbconvert_exporter": "python",
   "pygments_lexer": "ipython3",
   "version": "3.10.8"
  }
 },
 "nbformat": 4,
 "nbformat_minor": 5
}
