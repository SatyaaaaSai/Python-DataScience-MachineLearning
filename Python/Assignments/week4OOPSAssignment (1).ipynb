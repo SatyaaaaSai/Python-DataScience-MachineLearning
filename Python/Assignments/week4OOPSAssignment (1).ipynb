{
 "cells": [
  {
   "cell_type": "markdown",
   "id": "84a3bbd7-6c38-4b87-89d3-d29a410351d2",
   "metadata": {},
   "source": [
    "Q1. Explain Class and Object with respect to Object-Oriented Programming. Give a suitable example."
   ]
  },
  {
   "cell_type": "markdown",
   "id": "0e6841e0-04ab-4ab7-9cab-c95b44726a36",
   "metadata": {},
   "source": [
    "class:It is a template for an object.\n",
    "Object:It is a instance to a class.\n"
   ]
  },
  {
   "cell_type": "code",
   "execution_count": 9,
   "id": "373414a9-2c19-44cb-8623-a4f8e96feb66",
   "metadata": {},
   "outputs": [
    {
     "name": "stdout",
     "output_type": "stream",
     "text": [
      "I am so and so car and my model is so and so\n",
      "10\n"
     ]
    },
    {
     "data": {
      "text/plain": [
       "'hello world'"
      ]
     },
     "execution_count": 9,
     "metadata": {},
     "output_type": "execute_result"
    }
   ],
   "source": [
    "#Example::\n",
    "\n",
    "class car :                                                            #Class Declration \n",
    "    def carDetails(self) :                                             #Class Instance Methods.\n",
    "        print(\"I am so and so car and my model is so and so\")\n",
    "    a=10                                                               #Class Instance Variables\n",
    "    c=\"hello world\"\n",
    "obj=car()                                                              #Object Creation\n",
    "obj.carDetails()                                                       #Object Calling\n",
    "print(obj.a)\n",
    "obj.c"
   ]
  },
  {
   "cell_type": "markdown",
   "id": "702113b9-226a-4574-bb6a-e32aba803572",
   "metadata": {},
   "source": [
    "Q2. Name the four pillars of OOPs."
   ]
  },
  {
   "cell_type": "raw",
   "id": "43ea402f-fb43-469e-9c70-ff7d63d30d1a",
   "metadata": {},
   "source": [
    "i)Polymorphism : One Can Do Many Works.\n",
    "ii)Inheritance: Deriving One Class Properties to another Class Properties.\n",
    "iii)Abstarction : Hiding Of The Data \n",
    "iv)Encapsulation: Binding All Data Into A Single unit.\n"
   ]
  },
  {
   "cell_type": "markdown",
   "id": "b91ae754-b30b-49d6-b25d-3555fd161446",
   "metadata": {},
   "source": [
    "Q3. Explain why the __init__() function is used. Give a suitable example."
   ]
  },
  {
   "cell_type": "markdown",
   "id": "19b1673a-8b3b-42db-912a-f6af95fe8b2f",
   "metadata": {},
   "source": [
    "__init__: It is a constructor in python.It is used to assign the data for the class memnbers."
   ]
  },
  {
   "cell_type": "code",
   "execution_count": 13,
   "id": "9eea6f4e-02f8-43f7-bcd7-59bd580da954",
   "metadata": {},
   "outputs": [
    {
     "data": {
      "text/plain": [
       "('Toyato', 2004)"
      ]
     },
     "execution_count": 13,
     "metadata": {},
     "output_type": "execute_result"
    }
   ],
   "source": [
    "#Example :\n",
    "class car :\n",
    "    def __init__(self,year,model):\n",
    "        self.year=year\n",
    "        self.model=model\n",
    "        \n",
    "    def printing_Deatils(self):\n",
    "        return self.year,self.model\n",
    "    \n",
    "obj=car(\"Toyato\",2004)\n",
    "obj.printing_Deatils()"
   ]
  },
  {
   "cell_type": "markdown",
   "id": "40b6c14f-8ab5-4804-a34e-0772c025500b",
   "metadata": {},
   "source": [
    "Why self is used in OOPs?"
   ]
  },
  {
   "cell_type": "markdown",
   "id": "82681d87-c62f-4e67-bfb0-ceb1d12e16aa",
   "metadata": {},
   "source": [
    "usage of self : self is used to refer to the class . it is a refernce variable , used to refer to the class methods. It is a first parameter to pass in the instance methods."
   ]
  },
  {
   "cell_type": "markdown",
   "id": "59deaeb7-04be-4d1c-8b66-86bdc5b7a029",
   "metadata": {},
   "source": [
    "Q5. What is inheritance? Give an example for each type of inheritance."
   ]
  },
  {
   "cell_type": "raw",
   "id": "0c5a2815-baa0-46d3-b53f-9f527875a322",
   "metadata": {},
   "source": [
    "Inheritance: Deriving One Class Properties to another Class Properties.\n",
    "There Are Three types of inheritances :\n",
    "i)Single Inheritance\n",
    "ii)Multilevel Inheritance\n",
    "iii)Multilevel Inheritance\n"
   ]
  },
  {
   "cell_type": "code",
   "execution_count": 17,
   "id": "d4e69535-a4d1-461f-86ae-92ccb5ce0beb",
   "metadata": {},
   "outputs": [
    {
     "name": "stdout",
     "output_type": "stream",
     "text": [
      "i am in a paremt class method\n"
     ]
    },
    {
     "data": {
      "text/plain": [
       "'i am in a child class method'"
      ]
     },
     "execution_count": 17,
     "metadata": {},
     "output_type": "execute_result"
    }
   ],
   "source": [
    "#Single-Inheritance\n",
    "class parent :\n",
    "    def parent_class_method(self) :\n",
    "        return \"i am in a paremt class method\"\n",
    "    \n",
    "class child(parent) :\n",
    "    def child_class_method(self) :\n",
    "        return \"i am in a child class method\"\n",
    "child_obj=child()\n",
    "print(child_obj.parent_class_method())\n",
    "child_obj.child_class_method()"
   ]
  },
  {
   "cell_type": "code",
   "execution_count": 21,
   "id": "add2ec4c-b122-438a-890b-4fa1b5cb60cf",
   "metadata": {},
   "outputs": [
    {
     "name": "stdout",
     "output_type": "stream",
     "text": [
      "i am in a   GrandFather_class method\n",
      "i am in a Father class method\n",
      "i am in a child class method\n"
     ]
    }
   ],
   "source": [
    "#MultiLevelInheritance\n",
    "class GrandFather :\n",
    "    def GrandFather_class_method(self) :\n",
    "        print( \"i am in a   GrandFather_class method\")\n",
    "    \n",
    "class Father(GrandFather) :\n",
    "    def Father_class_method(self) :\n",
    "        print( \"i am in a Father class method\")\n",
    "    \n",
    "class Child(Father) :\n",
    "    def child_class_method(self) :\n",
    "        print( \"i am in a child class method\")\n",
    "    \n",
    "obj_child=Child()\n",
    "obj_child.GrandFather_class_method()\n",
    "obj_child.Father_class_method()\n",
    "obj_child.child_class_method()"
   ]
  },
  {
   "cell_type": "code",
   "execution_count": 24,
   "id": "57f19e07-ddd0-439f-9879-86d1579be62a",
   "metadata": {},
   "outputs": [
    {
     "name": "stdout",
     "output_type": "stream",
     "text": [
      "i am in a Father class method\n",
      "i am in a Mother class method\n",
      "i am in a child class method\n"
     ]
    }
   ],
   "source": [
    "#MultipleInheritance\n",
    "class Father :\n",
    "    def Father_class_method(self) :\n",
    "        return \"i am in a Father class method\"\n",
    "    \n",
    "class Mother :\n",
    "    def Mother_class_method(self) :\n",
    "        return \"i am in a Mother class method\"\n",
    "    \n",
    "class child(Father,Mother) :\n",
    "    def child_class_method(self) :\n",
    "        return \"i am in a child class method\"\n",
    "    \n",
    "obj_child=child()\n",
    "print(obj_child.Father_class_method())\n",
    "print(obj_child.Mother_class_method())\n",
    "print(obj_child.child_class_method())"
   ]
  },
  {
   "cell_type": "code",
   "execution_count": null,
   "id": "1e051570-3d69-4cd9-957c-0a9216b3af38",
   "metadata": {},
   "outputs": [],
   "source": []
  }
 ],
 "metadata": {
  "kernelspec": {
   "display_name": "Python 3 (ipykernel)",
   "language": "python",
   "name": "python3"
  },
  "language_info": {
   "codemirror_mode": {
    "name": "ipython",
    "version": 3
   },
   "file_extension": ".py",
   "mimetype": "text/x-python",
   "name": "python",
   "nbconvert_exporter": "python",
   "pygments_lexer": "ipython3",
   "version": "3.10.8"
  }
 },
 "nbformat": 4,
 "nbformat_minor": 5
}
