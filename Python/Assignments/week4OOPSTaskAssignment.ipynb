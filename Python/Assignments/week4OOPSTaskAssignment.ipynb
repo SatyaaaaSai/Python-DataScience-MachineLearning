{
 "cells": [
  {
   "cell_type": "markdown",
   "id": "010f5a0b-d41d-4685-a945-c00c5f5f589e",
   "metadata": {},
   "source": [
    "Q1, Create a vehicle class with an init method having instance variables as name_of_vehicle, max_speed\n",
    "and average_of_vehicle."
   ]
  },
  {
   "cell_type": "code",
   "execution_count": null,
   "id": "b280ac9d-23a0-48b3-8045-75f53ba26e53",
   "metadata": {},
   "outputs": [],
   "source": []
  },
  {
   "cell_type": "code",
   "execution_count": 6,
   "id": "8b1dec59-ced9-4eb1-9381-ebe42a632480",
   "metadata": {},
   "outputs": [
    {
     "name": "stdout",
     "output_type": "stream",
     "text": [
      "Toyoto 200 125\n"
     ]
    }
   ],
   "source": [
    "class vehicle :\n",
    "    def __init__(self,name_of_vehicle,max_speed,average_of_vehicle):\n",
    "        self.name_of_vehicle=name_of_vehicle\n",
    "        self.max_speed=max_speed\n",
    "        self.average_of_vehicle=average_of_vehicle\n",
    "    \n",
    "    def print(self) :\n",
    "        print(self.name_of_vehicle,self.max_speed,self.average_of_vehicle)\n",
    "        \n",
    "obj_vehicle=vehicle(\"Toyoto\",200,125)\n",
    "obj_vehicle.print()"
   ]
  },
  {
   "cell_type": "markdown",
   "id": "1327751e-175e-46c8-8668-e8c5f3ec65be",
   "metadata": {},
   "source": [
    "Q2. Create a child class car from the vehicle class created in Que 1, which will inherit the vehicle class.\n",
    "Create a method named seating_capacity which takes capacity as an argument and returns the name of\n",
    "the vehicle and its seating capacity."
   ]
  },
  {
   "cell_type": "code",
   "execution_count": 7,
   "id": "1e8ca150-a2c8-412a-b817-a2df2dea5660",
   "metadata": {},
   "outputs": [
    {
     "data": {
      "text/plain": [
       "('name of the vehicle is', 'Toyota', 'and its seating capacity is', 4)"
      ]
     },
     "execution_count": 7,
     "metadata": {},
     "output_type": "execute_result"
    }
   ],
   "source": [
    "class vehicle :\n",
    "    def __init__(self,name_of_vehicle,max_speed,average_of_vehicle):\n",
    "        self.name_of_vehicle=name_of_vehicle\n",
    "        self.max_speed=max_speed\n",
    "        self.average_of_vehicle=average_of_vehicle\n",
    "    \n",
    "    def print(self) :\n",
    "        print(self.name_of_vehicle,self.max_speed,self.average_of_vehicle)\n",
    "        \n",
    "class car(vehicle) :\n",
    "     \n",
    "        def seating_capacity(self,capacity):\n",
    "            self.capacity=capacity\n",
    "            return \"name of the vehicle is\",self.name_of_vehicle,\"and its seating capacity is\",self.capacity\n",
    "        \n",
    "obj_car=car(\"Toyota\",200,125)\n",
    "obj_car.seating_capacity(4)\n",
    "        "
   ]
  },
  {
   "cell_type": "markdown",
   "id": "8880eafb-644d-4d90-b88b-f0ca500ef6e9",
   "metadata": {},
   "source": [
    "Q3. What is multiple inheritance? Write a python code to demonstrate multiple inheritance."
   ]
  },
  {
   "cell_type": "markdown",
   "id": "b680c09d-df97-42b4-92f4-b295550f8875",
   "metadata": {},
   "source": [
    "Def : Sub Class Acquring properties of the two super classes."
   ]
  },
  {
   "cell_type": "code",
   "execution_count": 8,
   "id": "af1e4724-951f-448f-856c-f592e5366b8b",
   "metadata": {},
   "outputs": [
    {
     "name": "stdout",
     "output_type": "stream",
     "text": [
      "i am in a Father class method\n",
      "i am in a Mother class method\n",
      "i am in a child class method\n"
     ]
    }
   ],
   "source": [
    "#MultipleInheritance\n",
    "class Father :\n",
    "    def Father_class_method(self) :\n",
    "        return \"i am in a Father class method\"\n",
    "    \n",
    "class Mother :\n",
    "    def Mother_class_method(self) :\n",
    "        return \"i am in a Mother class method\"\n",
    "    \n",
    "class child(Father,Mother) :\n",
    "    def child_class_method(self) :\n",
    "        return \"i am in a child class method\"\n",
    "    \n",
    "obj_child=child()\n",
    "print(obj_child.Father_class_method())\n",
    "print(obj_child.Mother_class_method())\n",
    "print(obj_child.child_class_method())"
   ]
  },
  {
   "cell_type": "markdown",
   "id": "612e1df9-1059-4760-935d-e4a6eec38fe2",
   "metadata": {},
   "source": [
    "Q4. What are getter and setter in python? Create a class and create a getter and a setter method in this\n",
    "class."
   ]
  },
  {
   "cell_type": "markdown",
   "id": "230c94c4-1a91-4c54-b687-c4f1248cc2b6",
   "metadata": {},
   "source": [
    "Getter : It is used to get the values which are in the private and protected .\n",
    "\n",
    "Setter : It is used to set the values for the methods and variables which are in private and public . "
   ]
  },
  {
   "cell_type": "code",
   "execution_count": 7,
   "id": "49c38532-1787-48ad-b4c3-fbf003a61a28",
   "metadata": {},
   "outputs": [
    {
     "name": "stdout",
     "output_type": "stream",
     "text": [
      "5878\n",
      "oc\n",
      "BC\n"
     ]
    }
   ],
   "source": [
    "#Example :: \n",
    "\n",
    "class srkr5 :\n",
    "    def __init__(self,name,id_no,caste) :\n",
    "        self.name=name\n",
    "        self.__caste=caste\n",
    "        self.idno=id_no \n",
    "        \n",
    "    @property\n",
    "    def get_caste(self) :\n",
    "        return self.__caste\n",
    "    \n",
    "    @get_caste.setter\n",
    "    def get_caste_setter(self,caste) :\n",
    "        if caste == \"oc\" : \n",
    "            pass \n",
    "        else :\n",
    "            self.__caste=caste\n",
    "obj6 = srkr5(\"satyasai\", 5878, \"oc\")\n",
    "print(obj6.idno)\n",
    "print(obj6.get_caste)\n",
    "obj6.get_caste_setter=\"BC\"\n",
    "print(obj6.get_caste)\n"
   ]
  },
  {
   "cell_type": "markdown",
   "id": "53e08bba-86d9-4ce7-85d3-ece5a57fe501",
   "metadata": {},
   "source": [
    "Q5.What is method overriding in python? Write a python code to demonstrate method overriding."
   ]
  },
  {
   "cell_type": "code",
   "execution_count": 26,
   "id": "1b08a596-776f-471f-988f-bd91b3073da6",
   "metadata": {},
   "outputs": [
    {
     "name": "stdout",
     "output_type": "stream",
     "text": [
      " i am in child\n",
      "value is 10\n",
      "value is 30\n"
     ]
    }
   ],
   "source": [
    "class test : \n",
    "    def __init__(self) :\n",
    "        print(\"i am in parent class 1 \")\n",
    "        \n",
    "    def show(self) :\n",
    "        print(\"value is 10\")\n",
    "        \n",
    "class test1 :\n",
    "    def __init__(self) :\n",
    "        print(\"i am inside parent 2\")\n",
    "        \n",
    "    def show(self) :\n",
    "        print(\"value is 20\")\n",
    "        \n",
    "    \n",
    "class test2(test,test1) :\n",
    "    def __init__(self) :\n",
    "        print(\" i am in child\") \n",
    "        \n",
    "    def show(self) :\n",
    "        super().show()\n",
    "        print(\"value is 30\")\n",
    "        \n",
    "obj=test2()\n",
    "obj.show()"
   ]
  }
 ],
 "metadata": {
  "kernelspec": {
   "display_name": "Python 3 (ipykernel)",
   "language": "python",
   "name": "python3"
  },
  "language_info": {
   "codemirror_mode": {
    "name": "ipython",
    "version": 3
   },
   "file_extension": ".py",
   "mimetype": "text/x-python",
   "name": "python",
   "nbconvert_exporter": "python",
   "pygments_lexer": "ipython3",
   "version": "3.10.8"
  }
 },
 "nbformat": 4,
 "nbformat_minor": 5
}
