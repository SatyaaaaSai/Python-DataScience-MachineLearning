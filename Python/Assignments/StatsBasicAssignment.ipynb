{
 "cells": [
  {
   "cell_type": "markdown",
   "id": "a268cb21-fc3f-4757-b29b-bbf30b202a25",
   "metadata": {},
   "source": [
    "Q1. What is Statistics?"
   ]
  },
  {
   "cell_type": "markdown",
   "id": "823324f6-ce36-4a87-a61e-b21e884e6054",
   "metadata": {},
   "source": [
    "Def :: Statistics is a science of organising,collecting and Analyzing the Data."
   ]
  },
  {
   "cell_type": "markdown",
   "id": "b9cb7c9a-c4d3-457f-b283-dd9b64dd5058",
   "metadata": {},
   "source": [
    "Q2. Define the different types of statistics and give an example of when each type might be used."
   ]
  },
  {
   "cell_type": "markdown",
   "id": "ad65d500-8938-4d43-93cc-7b89861b6a57",
   "metadata": {},
   "source": [
    "There are two types of stats are there :\n",
    "1)Descriptive Stats.\n",
    "Def : It consists of organising ans summarazing the data.\n",
    "2)Inferential Stats.\n",
    "Def : Using this , we can concludes the result based on the existing data."
   ]
  },
  {
   "cell_type": "markdown",
   "id": "76f627f6-0812-4f38-af22-f3e013b25de4",
   "metadata": {},
   "source": [
    "Q3. What are the different types of data and how do they differ from each other? Provide an example of\n",
    "each type of data."
   ]
  },
  {
   "cell_type": "markdown",
   "id": "502c59ec-bdfd-41a3-8c19-3e637d732dcc",
   "metadata": {},
   "source": [
    "There are two types of data .\n",
    "1)Qualitative \n",
    "def:Used For the Numerical Data.\n",
    "2)Quantative\n",
    "def:Used for the categoriacal Data.\n",
    "In Qualitative we have two types,\n",
    "a)discrete.\n",
    "def:Specific Number \n",
    "Ex:no of childrens,no of houses\n",
    "b)random\n",
    "def:Defined in range\n",
    "Ex:Heights of a persons.\n",
    "In Quantative we have two types,\n",
    "a)Nominal \n",
    "def:Fixed Set\n",
    "Ex:Colours\n",
    "b)Ordinal.\n",
    "def:Rank\n",
    "Ex:Grades(A,B,C..)"
   ]
  },
  {
   "cell_type": "markdown",
   "id": "d8824124-800c-4415-9157-58f138907bdf",
   "metadata": {},
   "source": [
    "Q4. Categorise the following datasets with respect to quantitative and qualitative data types:\n",
    "(i) Grading in exam: A+, A, B+, B, C+, C, D, E\n",
    "(ii) Colour of mangoes: yellow, green, orange, red\n",
    "(iii) Height data of a class: [178.9, 179, 179.5, 176, 177.2, 178.3, 175.8,...]\n",
    "(iv) Number of mangoes exported by a farm: [500, 600, 478, 672, ...]"
   ]
  },
  {
   "cell_type": "markdown",
   "id": "43cb4886-5874-4f92-b37c-dde000396115",
   "metadata": {},
   "source": [
    "i)Ordinal Data Type.\n",
    "ii)Nominal Data Type.\n",
    "iii)Random Data Type,\n",
    "iv)Dicrete Random Variable."
   ]
  },
  {
   "cell_type": "markdown",
   "id": "cb11cdc9-968e-44f6-8756-542c5222ab83",
   "metadata": {},
   "source": [
    "Q5. Explain the concept of levels of measurement and give an example of a variable for each level."
   ]
  },
  {
   "cell_type": "markdown",
   "id": "25295595-8cca-477d-89fa-3697b7ed415b",
   "metadata": {},
   "source": [
    "In Data Analsis ,we understand the nature of the different variables which are we dealing with. \n",
    "i)Nominal Scale Data : Conducting a survey of differnt numbers for COLOURING\n",
    "ii)Ordinal Scale Data : Ranks in a class based on the marks.\n",
    "iii)Interval Scale Data : Temeperatures of a specifiv area in different seasond\n",
    "iv)Ratio Scale Data : Grades For The Student"
   ]
  },
  {
   "cell_type": "markdown",
   "id": "232386e2-b9e3-4a2a-942d-63dcdaad9193",
   "metadata": {},
   "source": [
    "Q6. Why is it important to understand the level of measurement when analyzing data? Provide an\n",
    "example to illustrate your answer."
   ]
  },
  {
   "cell_type": "markdown",
   "id": "dd44e310-a61e-45a5-9dce-696ddf85ad77",
   "metadata": {},
   "source": [
    "It Determine the which type of the statical data analysis which you are taken.It Effects the both the nature and insights of the data\n",
    "Example:: Population Counting For a village for a specific Occasion."
   ]
  },
  {
   "cell_type": "markdown",
   "id": "ea81a686-fecd-478c-a4b4-7a4e503b7cce",
   "metadata": {},
   "source": [
    "Q7. How nominal data type is different from ordinal data type."
   ]
  },
  {
   "cell_type": "markdown",
   "id": "092b2b63-20ad-4c1a-9529-3c8d91c880ec",
   "metadata": {},
   "source": [
    "Nominal data types cant be measured in ranks, while ordinary can. In nominal we cant say or analysis Specif featur id first or high , but in ordinal we can.In Nominal Data Type Variables are the Fixed Set,while in ordinal it based on the rank. "
   ]
  },
  {
   "cell_type": "markdown",
   "id": "9b66ce0a-c6ee-4654-bf8d-0ed85935ee4d",
   "metadata": {},
   "source": [
    "Q8.Which type of plot can be used to display data in terms of range?"
   ]
  },
  {
   "cell_type": "markdown",
   "id": "9105df7b-0c53-41a4-a4bd-987f93624ed7",
   "metadata": {},
   "source": [
    "Histograms are used ."
   ]
  },
  {
   "cell_type": "markdown",
   "id": "0afa2110-af5f-4aca-8e67-d0aed744558c",
   "metadata": {},
   "source": [
    "Q9. Describe the difference between descriptive and inferential statistics. Give an example of each\n",
    "type of statistics and explain how they are used."
   ]
  },
  {
   "cell_type": "markdown",
   "id": "d1f41c78-2cf5-47d6-954d-f8093e6ddc1a",
   "metadata": {},
   "source": [
    "1)Descriptive Stats.\n",
    "Def : It consists of organising ans summarazing the data.\n",
    "Ex:Studen Data in the Colleges , etc..\n",
    "2)Inferential Stats.\n",
    "Def : Using this , we can concludes the result based on the existing data.\n",
    "Ex:Concluding Ph Test For the water in the specific pond."
   ]
  },
  {
   "cell_type": "markdown",
   "id": "ac945f90-fa6f-4bac-8784-157033d48d95",
   "metadata": {},
   "source": [
    "Q10. What are some common measures of central tendency and variability used in statistics? Explain\n",
    "how each measure can be used to describe a dataset."
   ]
  },
  {
   "cell_type": "markdown",
   "id": "7f48b440-345c-403f-9258-151e396bc2ff",
   "metadata": {},
   "source": [
    "Common Measure of the central Tendency : \n",
    "i)Mean \n",
    "Usage : It can be the average of the given data set\n",
    "ii)Median\n",
    "Usage : Mid Value \n",
    "iii)Mode\n",
    "Usage : Most Repeated Value in a given Set."
   ]
  },
  {
   "cell_type": "code",
   "execution_count": null,
   "id": "f70297fc-c006-4a57-bc68-753be4c95bbf",
   "metadata": {},
   "outputs": [],
   "source": []
  }
 ],
 "metadata": {
  "kernelspec": {
   "display_name": "Python 3 (ipykernel)",
   "language": "python",
   "name": "python3"
  },
  "language_info": {
   "codemirror_mode": {
    "name": "ipython",
    "version": 3
   },
   "file_extension": ".py",
   "mimetype": "text/x-python",
   "name": "python",
   "nbconvert_exporter": "python",
   "pygments_lexer": "ipython3",
   "version": "3.10.8"
  }
 },
 "nbformat": 4,
 "nbformat_minor": 5
}
