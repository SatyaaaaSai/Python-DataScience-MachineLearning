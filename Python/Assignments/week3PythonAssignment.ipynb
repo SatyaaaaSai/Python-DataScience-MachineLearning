{
 "cells": [
  {
   "cell_type": "markdown",
   "id": "8ed40c1f-7a48-4588-ae53-540f9a2a3f40",
   "metadata": {},
   "source": [
    "Q1. Create a python program to sort the given list of tuples based on integer value using a\n",
    "lambda function.\n",
    "[('Sachin Tendulkar', 34357), ('Ricky Ponting', 27483), ('Jack Kallis', 25534), ('Virat Kohli', 24936)]"
   ]
  },
  {
   "cell_type": "code",
   "execution_count": null,
   "id": "e86bd032-cbe9-47d4-9b4b-5c2e92224f63",
   "metadata": {},
   "outputs": [],
   "source": []
  },
  {
   "cell_type": "markdown",
   "id": "f5058c4f-c1e5-4b40-88f3-ddba866c65fb",
   "metadata": {},
   "source": [
    "Q2. Write a Python Program to find the squares of all the numbers in the given list of integers using\n",
    "lambda and map functions.\n",
    "[1, 2, 3, 4, 5, 6, 7, 8, 9, 10]"
   ]
  },
  {
   "cell_type": "code",
   "execution_count": 22,
   "id": "c453cc42-fd87-4afa-8b0b-b2fb739e6104",
   "metadata": {},
   "outputs": [
    {
     "name": "stdout",
     "output_type": "stream",
     "text": [
      "[1, 4, 9, 16, 25, 36, 49, 64, 81, 100]\n"
     ]
    }
   ],
   "source": [
    "#using lambda Functions\n",
    "l=[1,2,3,4,5,6,7,8,9,10]\n",
    "l1=[]\n",
    "sum_of_squares= lambda i : i**2\n",
    "for i in l:\n",
    "    l1.append(sum_of_squares(i))\n",
    "print(l1)"
   ]
  },
  {
   "cell_type": "code",
   "execution_count": 25,
   "id": "a384f3d2-a5be-479c-88f3-1da3707a9a39",
   "metadata": {},
   "outputs": [
    {
     "data": {
      "text/plain": [
       "[None, None, None, None, None, None, None, None, None, None]"
      ]
     },
     "execution_count": 25,
     "metadata": {},
     "output_type": "execute_result"
    }
   ],
   "source": [
    "#using Map Function\n",
    "l=[1,2,3,4,5,6,7,8,9,10]\n",
    "def sum_of_squares(l):\n",
    "    l**2\n",
    "list(map(sum_of_squares,l))"
   ]
  },
  {
   "cell_type": "code",
   "execution_count": 26,
   "id": "02dd9bb6-d751-4d97-b5e7-7e927524308e",
   "metadata": {},
   "outputs": [
    {
     "data": {
      "text/plain": [
       "[1, 4, 9, 16, 25, 36, 49, 64, 81, 100]"
      ]
     },
     "execution_count": 26,
     "metadata": {},
     "output_type": "execute_result"
    }
   ],
   "source": [
    "#using map function\n",
    "list(map(lambda i: i**2 , l))"
   ]
  },
  {
   "cell_type": "markdown",
   "id": "bb1e6c66-f58b-4ade-a396-8b5fc8dc00a7",
   "metadata": {},
   "source": [
    "Q3. Write a python program to convert the given list of integers into a tuple of strings. Use map and\n",
    "lambda functions\n",
    "Given String: [1, 2, 3, 4, 5, 6, 7, 8, 9, 10]\n",
    "Expected output: ('1', '2', '3', '4', '5', '6', '7', '8', '9', '10')"
   ]
  },
  {
   "cell_type": "code",
   "execution_count": null,
   "id": "34b271fe-bc1b-4acd-8c6e-09026b18a0d0",
   "metadata": {},
   "outputs": [],
   "source": [
    "l=[1, 2, 3, 4, 5, 6, 7, 8, 9, 10]"
   ]
  },
  {
   "cell_type": "code",
   "execution_count": 49,
   "id": "485721bf-c2b4-4d5c-af5c-560fdf6a9363",
   "metadata": {},
   "outputs": [
    {
     "name": "stdout",
     "output_type": "stream",
     "text": [
      "\n"
     ]
    }
   ],
   "source": [
    "\"\"\"l1=[]\n",
    "#using map function\n",
    "def conversiontostrings(l):\n",
    "    for i in l:\n",
    "        l1.append(str(i))\n",
    "    return tuple(l1)\n",
    "conversiontostrings(l)\n",
    "\"\"\"\n",
    "print()"
   ]
  },
  {
   "cell_type": "code",
   "execution_count": 47,
   "id": "407f4a5c-da13-45f0-810d-4d3a6333effa",
   "metadata": {},
   "outputs": [
    {
     "data": {
      "text/plain": [
       "('1', '2', '3', '4', '5', '6', '7', '8', '9', '10')"
      ]
     },
     "execution_count": 47,
     "metadata": {},
     "output_type": "execute_result"
    }
   ],
   "source": [
    "#using map function\n",
    "l=[1, 2, 3, 4, 5, 6, 7, 8, 9, 10]\n",
    "st=lambda l : str(l)\n",
    "tuple(list(map(st,l)))"
   ]
  },
  {
   "cell_type": "code",
   "execution_count": 52,
   "id": "c445f781-2849-4a4c-ba4f-6fa6ce43cbf3",
   "metadata": {},
   "outputs": [
    {
     "name": "stdout",
     "output_type": "stream",
     "text": [
      "('1', '2', '3', '4', '5', '6', '7', '8', '9', '10')\n"
     ]
    }
   ],
   "source": [
    "#using lambda function\n",
    "l1=[]\n",
    "st=lambda l: str(l)\n",
    "for i in l:\n",
    "    l1.append(st(i))\n",
    "print(tuple(l1))"
   ]
  },
  {
   "cell_type": "markdown",
   "id": "b7e6ed25-86e9-495c-bac8-ec5175547208",
   "metadata": {},
   "source": [
    "Q4. Write a python program using reduce function to compute the product of a list containing numbers\n",
    "from 1 to 25."
   ]
  },
  {
   "cell_type": "code",
   "execution_count": 59,
   "id": "2b2ee9c0-2d40-4033-8c30-6aaf1380bfd8",
   "metadata": {},
   "outputs": [
    {
     "name": "stdout",
     "output_type": "stream",
     "text": [
      "[1, 2, 3, 4, 5, 6, 7, 8, 9, 10, 11, 12, 13, 14, 15, 16, 17, 18, 19, 20, 21, 22, 23, 24, 25]\n"
     ]
    },
    {
     "data": {
      "text/plain": [
       "15511210043330985984000000"
      ]
     },
     "execution_count": 59,
     "metadata": {},
     "output_type": "execute_result"
    }
   ],
   "source": [
    "from functools import reduce\n",
    "l=[]\n",
    "for i in range(1,26):\n",
    "    l.append(i)\n",
    "print(l)\n",
    "reduce(lambda x,y : x*y,l)"
   ]
  },
  {
   "cell_type": "markdown",
   "id": "677b60d9-4682-4026-9472-cf995413cc8f",
   "metadata": {},
   "source": [
    "Q5. Write a python program to filter the numbers in a given list that are divisible by 2 and 3 using the\n",
    "filter function.\n",
    "[2, 3, 6, 9, 27, 60, 90, 120, 55, 46]"
   ]
  },
  {
   "cell_type": "code",
   "execution_count": 68,
   "id": "78e13ae8-c56e-4955-8baa-ae2f7650499f",
   "metadata": {},
   "outputs": [
    {
     "data": {
      "text/plain": [
       "[6, 60, 90, 120]"
      ]
     },
     "execution_count": 68,
     "metadata": {},
     "output_type": "execute_result"
    }
   ],
   "source": [
    "list(filter(lambda x : x%2==0 and x%3==0 ,l))"
   ]
  },
  {
   "cell_type": "markdown",
   "id": "5654e8fa-59a1-4e70-9ffc-0b04900c37af",
   "metadata": {},
   "source": [
    "Q6. Write a python program to find palindromes in the given list of strings using lambda and filter\n",
    "function.\n",
    "['python', 'php', 'aba', 'radar', 'level']"
   ]
  },
  {
   "cell_type": "code",
   "execution_count": 76,
   "id": "f447c34a-dc90-412e-b03b-f6d4b6d814ce",
   "metadata": {},
   "outputs": [
    {
     "name": "stdout",
     "output_type": "stream",
     "text": [
      "False\n",
      "True\n",
      "True\n",
      "True\n",
      "True\n"
     ]
    }
   ],
   "source": [
    "#using lambda function\n",
    "l=['python', 'php', 'aba', 'radar', 'level']\n",
    "palindrome=lambda l : l==l[::-1]\n",
    "for i in l:\n",
    "    print(palindrome(i))"
   ]
  },
  {
   "cell_type": "code",
   "execution_count": 75,
   "id": "f39e0dd3-5189-4360-8a03-137f0937f95a",
   "metadata": {},
   "outputs": [
    {
     "data": {
      "text/plain": [
       "['php', 'aba', 'radar', 'level']"
      ]
     },
     "execution_count": 75,
     "metadata": {},
     "output_type": "execute_result"
    }
   ],
   "source": [
    "#using filter\n",
    "list(filter(lambda l: l==l[::-1],l))"
   ]
  }
 ],
 "metadata": {
  "kernelspec": {
   "display_name": "Python 3 (ipykernel)",
   "language": "python",
   "name": "python3"
  },
  "language_info": {
   "codemirror_mode": {
    "name": "ipython",
    "version": 3
   },
   "file_extension": ".py",
   "mimetype": "text/x-python",
   "name": "python",
   "nbconvert_exporter": "python",
   "pygments_lexer": "ipython3",
   "version": "3.10.8"
  }
 },
 "nbformat": 4,
 "nbformat_minor": 5
}
