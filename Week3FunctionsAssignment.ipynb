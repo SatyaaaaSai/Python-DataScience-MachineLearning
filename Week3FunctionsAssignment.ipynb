{
 "cells": [
  {
   "cell_type": "markdown",
   "id": "76c55cbd-1225-4ee9-8110-eff9bae5d7fd",
   "metadata": {},
   "source": [
    "Q1. Which keyword is used to create a function? Create a function to return a list of odd numbers in the\n",
    "range of 1 to 25."
   ]
  },
  {
   "cell_type": "markdown",
   "id": "5cd61e7e-eb86-48dd-a529-4ca165efce0d",
   "metadata": {},
   "source": [
    "def keyword is used for the creating for the function."
   ]
  },
  {
   "cell_type": "code",
   "execution_count": 5,
   "id": "5568cccb-9722-43cc-bacc-8b6cef956416",
   "metadata": {},
   "outputs": [
    {
     "data": {
      "text/plain": [
       "[1, 3, 5, 7, 9, 11, 13, 15, 17, 19, 21, 23, 25]"
      ]
     },
     "execution_count": 5,
     "metadata": {},
     "output_type": "execute_result"
    }
   ],
   "source": [
    "l=[]\n",
    "def returning_of_odd():\n",
    "    for i in range(1,26) :\n",
    "        if i%2==1 :\n",
    "            l.append(i)\n",
    "    return l\n",
    "returning_of_odd()\n",
    "        "
   ]
  },
  {
   "cell_type": "markdown",
   "id": "f67d2cf3-81a1-4ccb-b500-a4c1c991c05d",
   "metadata": {},
   "source": [
    "Q2. Why *args and **kwargs is used in some functions? Create a function each for *args and **kwargs to\n",
    "demonstrate their use."
   ]
  },
  {
   "cell_type": "markdown",
   "id": "37a755ca-6e19-4449-81cd-e8b05566d005",
   "metadata": {},
   "source": [
    "usage of *args : whwn we dont know the how many arguments are passed or no of elements are passed in future"
   ]
  },
  {
   "cell_type": "code",
   "execution_count": 11,
   "id": "8a80f4db-9f00-4e71-b37f-a5420995fa26",
   "metadata": {},
   "outputs": [
    {
     "data": {
      "text/plain": [
       "45"
      ]
     },
     "execution_count": 13,
     "metadata": {},
     "output_type": "execute_result"
    }
   ],
   "source": [
    "def usage_of_args(*args):\n",
    "    sum=0\n",
    "    for i in args:\n",
    "        sum=sum+i\n",
    "    return sum\n",
    "usage_of_kwargs(1,2,3,4,5,6,7,8,9)"
   ]
  },
  {
   "cell_type": "markdown",
   "id": "179699e2-41d1-4bf5-ad43-44d52d716974",
   "metadata": {},
   "source": [
    "usages of *kwargs : when we passed the arguments in key-value pair."
   ]
  },
  {
   "cell_type": "code",
   "execution_count": 33,
   "id": "0285460f-999c-4e18-9b2e-22682a3c711b",
   "metadata": {},
   "outputs": [
    {
     "data": {
      "text/plain": [
       "('a', [1, 2, 3, 4, 5, 6])"
      ]
     },
     "execution_count": 33,
     "metadata": {},
     "output_type": "execute_result"
    }
   ],
   "source": [
    "def usage_of_kwargs(**kwargs):\n",
    "    for i in kwargs.keys():\n",
    "        if type(kwargs[i])==list:\n",
    "            return i,kwargs[i]\n",
    "usage_of_kwargs(a=[1,2,3,4,5,6],e=[2,3,4,5,6],b=(1,2,3,4,5),c=\"abcdsed\",d=[1,2,3,45])"
   ]
  },
  {
   "cell_type": "markdown",
   "id": "b7696ef9-a63c-4c70-b257-f563976e68a0",
   "metadata": {},
   "source": [
    "Q3. What is an iterator in python? Name the method used to initialise the iterator object and the method\n",
    "used for iteration. Use these methods to print the first five elements of the given list [2, 4, 6, 8, 10, 12, 14, 16,\n",
    "18, 20]."
   ]
  },
  {
   "cell_type": "code",
   "execution_count": null,
   "id": "480ab560-3999-4c57-b0e6-9464fc98c23e",
   "metadata": {},
   "outputs": [],
   "source": []
  },
  {
   "cell_type": "markdown",
   "id": "348921d2-dc27-45ea-9370-22fee694404a",
   "metadata": {},
   "source": [
    "Q4. What is a generator function in python? Why yield keyword is used? Give an example of a generator\n",
    "function."
   ]
  },
  {
   "cell_type": "markdown",
   "id": "ba223b06-dec1-4d46-af5a-b4294ba28a17",
   "metadata": {},
   "source": [
    "generator function is used to generate the value in one by one.this decreases the memory and increases the effciency of the code\n",
    "\n",
    "usage of the yield : it give the values to the variable which are been used."
   ]
  },
  {
   "cell_type": "code",
   "execution_count": 55,
   "id": "8fc2cb37-7985-46a6-a7ca-7fc427eb63d4",
   "metadata": {},
   "outputs": [
    {
     "data": {
      "text/plain": [
       "<generator object example_generator at 0x7fa9985ae880>"
      ]
     },
     "execution_count": 55,
     "metadata": {},
     "output_type": "execute_result"
    }
   ],
   "source": [
    "l=[1, 2, 3, 4, 5, 6, 7, 8, 9, 10]\n",
    "def example_generator(l):\n",
    "    a=0\n",
    "    for i in l:\n",
    "        yield a\n",
    "        a=a+i\n",
    "example_generator(l)"
   ]
  },
  {
   "cell_type": "code",
   "execution_count": 57,
   "id": "8b383e7f-608d-4460-9263-39d78f6bf11f",
   "metadata": {},
   "outputs": [
    {
     "name": "stdout",
     "output_type": "stream",
     "text": [
      "0\n",
      "1\n",
      "3\n",
      "6\n",
      "10\n",
      "15\n",
      "21\n",
      "28\n",
      "36\n",
      "45\n"
     ]
    }
   ],
   "source": [
    "for i in example_generator(l):\n",
    "    print(i)"
   ]
  },
  {
   "cell_type": "markdown",
   "id": "a19a2268-77f8-4ffc-a3d5-4a83e6255366",
   "metadata": {},
   "source": [
    "Q5. Create a generator function for prime numbers less than 1000. Use the next() method to print the\n",
    "first 20 prime numbers."
   ]
  },
  {
   "cell_type": "code",
   "execution_count": 78,
   "id": "352f6d8f-6017-463f-9dd5-3863e90a0208",
   "metadata": {},
   "outputs": [
    {
     "name": "stdout",
     "output_type": "stream",
     "text": [
      "2\n",
      "3\n",
      "5\n",
      "7\n",
      "11\n",
      "13\n",
      "17\n",
      "19\n",
      "23\n",
      "29\n",
      "31\n",
      "37\n",
      "41\n",
      "43\n",
      "47\n",
      "53\n",
      "59\n",
      "61\n",
      "67\n",
      "71\n",
      "73\n",
      "79\n",
      "83\n",
      "89\n",
      "97\n",
      "101\n",
      "103\n",
      "107\n",
      "109\n",
      "113\n",
      "127\n",
      "131\n",
      "137\n",
      "139\n",
      "149\n",
      "151\n",
      "157\n",
      "163\n",
      "167\n",
      "173\n",
      "179\n",
      "181\n",
      "191\n",
      "193\n",
      "197\n",
      "199\n",
      "211\n",
      "223\n",
      "227\n",
      "229\n",
      "233\n",
      "239\n",
      "241\n",
      "251\n",
      "257\n",
      "263\n",
      "269\n",
      "271\n",
      "277\n",
      "281\n",
      "283\n",
      "293\n",
      "307\n",
      "311\n",
      "313\n",
      "317\n",
      "331\n",
      "337\n",
      "347\n",
      "349\n",
      "353\n",
      "359\n",
      "367\n",
      "373\n",
      "379\n",
      "383\n",
      "389\n",
      "397\n",
      "401\n",
      "409\n",
      "419\n",
      "421\n",
      "431\n",
      "433\n",
      "439\n",
      "443\n",
      "449\n",
      "457\n",
      "461\n",
      "463\n",
      "467\n",
      "479\n",
      "487\n",
      "491\n",
      "499\n",
      "503\n",
      "509\n",
      "521\n",
      "523\n",
      "541\n",
      "547\n",
      "557\n",
      "563\n",
      "569\n",
      "571\n",
      "577\n",
      "587\n",
      "593\n",
      "599\n",
      "601\n",
      "607\n",
      "613\n",
      "617\n",
      "619\n",
      "631\n",
      "641\n",
      "643\n",
      "647\n",
      "653\n",
      "659\n",
      "661\n",
      "673\n",
      "677\n",
      "683\n",
      "691\n",
      "701\n",
      "709\n",
      "719\n",
      "727\n",
      "733\n",
      "739\n",
      "743\n",
      "751\n",
      "757\n",
      "761\n",
      "769\n",
      "773\n",
      "787\n",
      "797\n",
      "809\n",
      "811\n",
      "821\n",
      "823\n",
      "827\n",
      "829\n",
      "839\n",
      "853\n",
      "857\n",
      "859\n",
      "863\n",
      "877\n",
      "881\n",
      "883\n",
      "887\n",
      "907\n",
      "911\n",
      "919\n",
      "929\n",
      "937\n",
      "941\n",
      "947\n",
      "953\n",
      "967\n",
      "971\n",
      "977\n",
      "983\n",
      "991\n",
      "997\n"
     ]
    }
   ],
   "source": [
    "l=[]\n",
    "def prime_number(n):\n",
    "    if n<2 :\n",
    "        return False\n",
    "    for i in range(2,int(n**0.5)+1):\n",
    "        if n%i==0:\n",
    "            return False\n",
    "    return True\n",
    "def prime_generator_example():\n",
    "    l=[]\n",
    "    for i in range(2,1001):\n",
    "        if prime_number(i):\n",
    "            l.append(i)\n",
    "            yield i\n",
    "prime_generator_example()\n",
    "for i in prime_generator_example():\n",
    "    print(i)"
   ]
  },
  {
   "cell_type": "code",
   "execution_count": null,
   "id": "8fdb9875-1319-4294-aeb9-4275916e7799",
   "metadata": {},
   "outputs": [],
   "source": []
  }
 ],
 "metadata": {
  "kernelspec": {
   "display_name": "Python 3 (ipykernel)",
   "language": "python",
   "name": "python3"
  },
  "language_info": {
   "codemirror_mode": {
    "name": "ipython",
    "version": 3
   },
   "file_extension": ".py",
   "mimetype": "text/x-python",
   "name": "python",
   "nbconvert_exporter": "python",
   "pygments_lexer": "ipython3",
   "version": "3.10.8"
  }
 },
 "nbformat": 4,
 "nbformat_minor": 5
}
