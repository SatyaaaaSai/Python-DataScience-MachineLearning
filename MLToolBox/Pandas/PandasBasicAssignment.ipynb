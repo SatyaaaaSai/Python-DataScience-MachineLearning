{
 "cells": [
  {
   "cell_type": "markdown",
   "id": "6107d228-90d9-4de2-8218-a88e645d97ea",
   "metadata": {},
   "source": [
    "Create a Pandas Series that contains the following data: 4, 8, 15, 16, 23, and 42. Then, print the series."
   ]
  },
  {
   "cell_type": "code",
   "execution_count": 12,
   "id": "11eb4d93-eaa0-48e4-86fe-9d5939ffb95b",
   "metadata": {},
   "outputs": [],
   "source": [
    "import pandas as pd\n",
    "lis=[4,8,15,16,23,32]\n",
    "df=pd.Series(lis,index=None)"
   ]
  },
  {
   "cell_type": "code",
   "execution_count": 13,
   "id": "98fb4d2c-dbeb-4501-a0ba-8252ac082e82",
   "metadata": {},
   "outputs": [
    {
     "data": {
      "text/plain": [
       "0     4\n",
       "1     8\n",
       "2    15\n",
       "3    16\n",
       "4    23\n",
       "5    32\n",
       "dtype: int64"
      ]
     },
     "execution_count": 13,
     "metadata": {},
     "output_type": "execute_result"
    }
   ],
   "source": [
    "df"
   ]
  },
  {
   "cell_type": "markdown",
   "id": "79e1e8e5-4274-4173-ae28-c6f4ba1f9671",
   "metadata": {},
   "source": [
    "Q2. Create a variable of list type containing 10 elements in it, and apply pandas.Series function on the\n",
    "variable print it."
   ]
  },
  {
   "cell_type": "code",
   "execution_count": 24,
   "id": "5b127edb-a1f5-4d61-8dce-c025106d6225",
   "metadata": {},
   "outputs": [
    {
     "data": {
      "text/plain": [
       "10      10\n",
       "20      20\n",
       "30      30\n",
       "40      40\n",
       "50      50\n",
       "60      60\n",
       "70      70\n",
       "80      80\n",
       "90      90\n",
       "100    100\n",
       "dtype: int64"
      ]
     },
     "execution_count": 24,
     "metadata": {},
     "output_type": "execute_result"
    }
   ],
   "source": [
    "li=[10,20,30,40,50,60,70,80,90,100]\n",
    "pd.Series(li,index=['10',20,30,40,50,60,70,80,90,100])"
   ]
  },
  {
   "cell_type": "markdown",
   "id": "828c473e-fa15-48f4-b376-43ccc5e32571",
   "metadata": {},
   "source": [
    "Q3. Create a Pandas DataFrame that contains the following data:"
   ]
  },
  {
   "cell_type": "code",
   "execution_count": 21,
   "id": "7624f2d7-8a0f-4796-b1c4-31711479cb64",
   "metadata": {},
   "outputs": [],
   "source": [
    "data_frame={'Name':['Alice','Bob','Carlie'],\n",
    "            'Age':[25,30,27],\n",
    "            'Clarie':['Female','Male','Female']\n",
    "           }\n",
    "df=pd.DataFrame(data_frame)"
   ]
  },
  {
   "cell_type": "code",
   "execution_count": 22,
   "id": "42612d86-a644-4d35-9072-6c1b67724a06",
   "metadata": {},
   "outputs": [
    {
     "data": {
      "text/html": [
       "<div>\n",
       "<style scoped>\n",
       "    .dataframe tbody tr th:only-of-type {\n",
       "        vertical-align: middle;\n",
       "    }\n",
       "\n",
       "    .dataframe tbody tr th {\n",
       "        vertical-align: top;\n",
       "    }\n",
       "\n",
       "    .dataframe thead th {\n",
       "        text-align: right;\n",
       "    }\n",
       "</style>\n",
       "<table border=\"1\" class=\"dataframe\">\n",
       "  <thead>\n",
       "    <tr style=\"text-align: right;\">\n",
       "      <th></th>\n",
       "      <th>Name</th>\n",
       "      <th>Age</th>\n",
       "      <th>Clarie</th>\n",
       "    </tr>\n",
       "  </thead>\n",
       "  <tbody>\n",
       "    <tr>\n",
       "      <th>0</th>\n",
       "      <td>Alice</td>\n",
       "      <td>25</td>\n",
       "      <td>Female</td>\n",
       "    </tr>\n",
       "    <tr>\n",
       "      <th>1</th>\n",
       "      <td>Bob</td>\n",
       "      <td>30</td>\n",
       "      <td>Male</td>\n",
       "    </tr>\n",
       "    <tr>\n",
       "      <th>2</th>\n",
       "      <td>Carlie</td>\n",
       "      <td>27</td>\n",
       "      <td>Female</td>\n",
       "    </tr>\n",
       "  </tbody>\n",
       "</table>\n",
       "</div>"
      ],
      "text/plain": [
       "     Name  Age  Clarie\n",
       "0   Alice   25  Female\n",
       "1     Bob   30    Male\n",
       "2  Carlie   27  Female"
      ]
     },
     "execution_count": 22,
     "metadata": {},
     "output_type": "execute_result"
    }
   ],
   "source": [
    "df"
   ]
  },
  {
   "cell_type": "markdown",
   "id": "868f3543-96ad-4aac-ae04-5c168a3b5e3a",
   "metadata": {},
   "source": [
    "Q4. What is ‘DataFrame’ in pandas and how is it different from pandas.series? Explain with an example."
   ]
  },
  {
   "cell_type": "code",
   "execution_count": 35,
   "id": "90964175-3c92-41f1-9d64-97b2ec6bb349",
   "metadata": {},
   "outputs": [
    {
     "name": "stdout",
     "output_type": "stream",
     "text": [
      "0    1\n",
      "1    2\n",
      "2    3\n",
      "3    4\n",
      "4    5\n",
      "5    6\n",
      "dtype: int64\n",
      "DataFrame is\n",
      "       heading1 heading2\n",
      "row1   pwskills        1\n",
      "row2  pwskills1        2\n"
     ]
    }
   ],
   "source": [
    "#DataFrame : DataFrame is a two dimensional array.it contains the row and columns . \n",
    "#Series: Series is a one dimensional array.\n",
    "\n",
    "lis=[1,2,3,4,5,6]\n",
    "lidf=pd.Series(lis)\n",
    "print(lidf)\n",
    "print(\"DataFrame is\")\n",
    "lisd=[['pwskills','1'],['pwskills1',2]]\n",
    "lidf1=pd.DataFrame(lisd,index=['row1','row2'],columns=['heading1','heading2'])\n",
    "print(lidf1)"
   ]
  },
  {
   "cell_type": "markdown",
   "id": "df487fb0-00f4-4d8d-81b5-d1ea280aff35",
   "metadata": {},
   "source": [
    "Q5. What are some common functions you can use to manipulate data in a Pandas DataFrame? Can\n",
    "you give an example of when you might use one of these functions?"
   ]
  },
  {
   "cell_type": "code",
   "execution_count": 54,
   "id": "a16fc3aa-2397-41f5-ab52-bc756c62de0d",
   "metadata": {},
   "outputs": [
    {
     "data": {
      "text/plain": [
       "Index(['Unnamed: 0', 'PassengerId', 'Survived', 'Pclass', 'Name', 'Sex', 'Age',\n",
       "       'SibSp', 'Parch', 'Ticket', 'Fare', 'Cabin', 'Embarked'],\n",
       "      dtype='object')"
      ]
     },
     "execution_count": 54,
     "metadata": {},
     "output_type": "execute_result"
    }
   ],
   "source": [
    "import pandas as pd \n",
    "\n",
    "#read_csv: it is used for the reading the csv files from the system\n",
    "df=pd.read_csv(\"titanic.csv\")\n",
    "\n",
    "#Head : It displays the data from the csv file in the front of the file . Intially its default number is 5 \n",
    "df.head()\n",
    "\n",
    "#Tail : It displays the data from the csv file in the back of the file .  Intially its default number is 5 \n",
    "df.tail()\n",
    "\n",
    "#dtypes:It displays the datatype of the object\n",
    "df.dtypes\n",
    "\n",
    "#Columns:It displays the Columns Name .\n",
    "df.columns"
   ]
  },
  {
   "cell_type": "markdown",
   "id": "4d09df4a-e15d-4b8b-b09c-8abf766dbba2",
   "metadata": {},
   "source": [
    "Q5. What are some common functions you can use to manipulate data in a Pandas DataFrame? Can you give an example of when you might use one of these functions?"
   ]
  },
  {
   "cell_type": "markdown",
   "id": "ba83cd5d-a35a-42ef-a893-ab0c43b85b09",
   "metadata": {},
   "source": [
    "Only DataFrame is mutable . We can manuplate the data once the data is crearted. whereas in series we cant manipulate the data ."
   ]
  },
  {
   "cell_type": "markdown",
   "id": "7fdd638d-4d15-4f38-a21b-fb8aeadcc27d",
   "metadata": {},
   "source": [
    "Q7. Create a DataFrame using multiple Series. Explain with an example."
   ]
  },
  {
   "cell_type": "code",
   "execution_count": 61,
   "id": "bcba1f8e-f218-4078-922f-469b0bcb11be",
   "metadata": {},
   "outputs": [
    {
     "data": {
      "text/html": [
       "<div>\n",
       "<style scoped>\n",
       "    .dataframe tbody tr th:only-of-type {\n",
       "        vertical-align: middle;\n",
       "    }\n",
       "\n",
       "    .dataframe tbody tr th {\n",
       "        vertical-align: top;\n",
       "    }\n",
       "\n",
       "    .dataframe thead th {\n",
       "        text-align: right;\n",
       "    }\n",
       "</style>\n",
       "<table border=\"1\" class=\"dataframe\">\n",
       "  <thead>\n",
       "    <tr style=\"text-align: right;\">\n",
       "      <th></th>\n",
       "      <th>StudentName</th>\n",
       "      <th>Branch</th>\n",
       "      <th>CGPA</th>\n",
       "    </tr>\n",
       "  </thead>\n",
       "  <tbody>\n",
       "    <tr>\n",
       "      <th>Sno1</th>\n",
       "      <td>Student1</td>\n",
       "      <td>cse</td>\n",
       "      <td>8.4</td>\n",
       "    </tr>\n",
       "    <tr>\n",
       "      <th>Sno2</th>\n",
       "      <td>Student2</td>\n",
       "      <td>it</td>\n",
       "      <td>9.0</td>\n",
       "    </tr>\n",
       "    <tr>\n",
       "      <th>Sno3</th>\n",
       "      <td>Student3</td>\n",
       "      <td>ece</td>\n",
       "      <td>8.5</td>\n",
       "    </tr>\n",
       "  </tbody>\n",
       "</table>\n",
       "</div>"
      ],
      "text/plain": [
       "     StudentName Branch  CGPA\n",
       "Sno1    Student1    cse   8.4\n",
       "Sno2    Student2     it   9.0\n",
       "Sno3    Student3    ece   8.5"
      ]
     },
     "execution_count": 61,
     "metadata": {},
     "output_type": "execute_result"
    }
   ],
   "source": [
    "li=['Student1','Student2','Student3']\n",
    "li1=['cse','it','ece']\n",
    "li2=[8.4,9.0,8.5]\n",
    "data=list(zip(li,li1,li2))\n",
    "pd.DataFrame(data,index=[\"Sno1\",\"Sno2\",\"Sno3\"],columns=[\"StudentName\",\"Branch\",\"CGPA\"])"
   ]
  },
  {
   "cell_type": "code",
   "execution_count": 60,
   "id": "3e1e178f-efba-40e8-ad68-4d8df94f4204",
   "metadata": {},
   "outputs": [
    {
     "data": {
      "text/plain": [
       "[('Student1', 'cse', 8.4), ('Student2', 'it', 9.0), ('Student3', 'ece', 8.5)]"
      ]
     },
     "execution_count": 60,
     "metadata": {},
     "output_type": "execute_result"
    }
   ],
   "source": [
    "data"
   ]
  }
 ],
 "metadata": {
  "kernelspec": {
   "display_name": "Python 3 (ipykernel)",
   "language": "python",
   "name": "python3"
  },
  "language_info": {
   "codemirror_mode": {
    "name": "ipython",
    "version": 3
   },
   "file_extension": ".py",
   "mimetype": "text/x-python",
   "name": "python",
   "nbconvert_exporter": "python",
   "pygments_lexer": "ipython3",
   "version": "3.10.8"
  }
 },
 "nbformat": 4,
 "nbformat_minor": 5
}
